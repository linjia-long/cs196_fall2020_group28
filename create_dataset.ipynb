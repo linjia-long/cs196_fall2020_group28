{
 "cells": [
  {
   "cell_type": "code",
   "execution_count": 1,
   "metadata": {},
   "outputs": [],
   "source": [
    "import csv\n",
    "import sys"
   ]
  },
  {
   "cell_type": "code",
   "execution_count": 5,
   "metadata": {},
   "outputs": [
    {
     "data": {
      "text/plain": [
       "9223372036854775807"
      ]
     },
     "execution_count": 5,
     "metadata": {},
     "output_type": "execute_result"
    }
   ],
   "source": [
    "csv.field_size_limit(sys.maxsize)\n",
    "with open('./extract_data.csv', 'w') as csvreader:\n",
    "    writer = csv.writer(csvreader, delimiter=',')\n",
    "    writer.writerow([\"id\", \"content\"])\n",
    "    with open('./archive/articles3.csv','r', encoding=\"utf8\") as csvwriter:\n",
    "        reader = csv.DictReader(csvwriter)\n",
    "        print(reader)\n",
    "        for row in reader:\n",
    "            writer.writerow([row['id'], row['content']])\n",
    "    with open('./archive/articles2.csv','r', encoding=\"utf8\") as csvwriter:\n",
    "        reader = csv.DictReader(csvwriter)\n",
    "        print(reader)\n",
    "        for row in reader:\n",
    "            writer.writerow([row['id'], row['content']])\n",
    "    with open('./archive/articles1.csv','r', encoding=\"utf8\") as csvwriter:\n",
    "        reader = csv.DictReader(csvwriter)\n",
    "        print(reader)\n",
    "        for row in reader:\n",
    "            writer.writerow([row['id'], row['content']])"
   ]
  },
  {
   "cell_type": "code",
   "execution_count": 4,
   "metadata": {},
   "outputs": [
    {
     "name": "stdout",
     "output_type": "stream",
     "text": [
      "151908\n"
     ]
    }
   ],
   "source": [
    "with open('./extract_data.csv', 'r') as csvreader:\n",
    "    reader = csv.DictReader(csvreader, delimiter=',')\n",
    "    for row in reader:\n",
    "        print(row['id'])\n",
    "        break\n"
   ]
  },
  {
   "cell_type": "code",
   "execution_count": 7,
   "metadata": {},
   "outputs": [
    {
     "data": {
      "text/plain": [
       "9223372036854775807"
      ]
     },
     "execution_count": 7,
     "metadata": {},
     "output_type": "execute_result"
    }
   ],
   "source": [
    "csv.field_size_limit(9223372036854775807)"
   ]
  },
  {
   "cell_type": "code",
   "execution_count": null,
   "metadata": {},
   "outputs": [],
   "source": []
  }
 ],
 "metadata": {
  "kernelspec": {
   "display_name": "Python 3",
   "language": "python",
   "name": "python3"
  },
  "language_info": {
   "codemirror_mode": {
    "name": "ipython",
    "version": 3
   },
   "file_extension": ".py",
   "mimetype": "text/x-python",
   "name": "python",
   "nbconvert_exporter": "python",
   "pygments_lexer": "ipython3",
   "version": "3.7.6"
  }
 },
 "nbformat": 4,
 "nbformat_minor": 4
}
