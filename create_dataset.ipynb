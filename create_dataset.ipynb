{
 "cells": [
  {
   "cell_type": "code",
   "execution_count": 8,
   "metadata": {},
   "outputs": [],
   "source": [
    "import csv\n",
    "import sys"
   ]
  },
  {
   "cell_type": "code",
   "execution_count": 9,
   "metadata": {},
   "outputs": [],
   "source": [
    "csv.field_size_limit(sys.maxsize)\n",
    "with open('./extract_data.csv', 'w') as csvreader:\n",
    "    writer = csv.writer(csvreader, delimiter=',')\n",
    "    writer.writerow([\"id\", \"content\"])\n",
    "    with open('./archive/articles3.csv','r') as csvwriter:\n",
    "        reader = csv.DictReader(csvwriter)\n",
    "        for row in reader:\n",
    "            writer.writerow([row['id'], row['content']])\n",
    "    with open('./archive/articles2.csv','r') as csvwriter:\n",
    "        reader = csv.DictReader(csvwriter)\n",
    "        for row in reader:\n",
    "            writer.writerow([row['id'], row['content']])\n",
    "    with open('./archive/articles1.csv','r') as csvwriter:\n",
    "        reader = csv.DictReader(csvwriter)\n",
    "        for row in reader:\n",
    "            writer.writerow([row['id'], row['content']])"
   ]
  },
  {
   "cell_type": "code",
   "execution_count": 10,
   "metadata": {},
   "outputs": [
    {
     "name": "stdout",
     "output_type": "stream",
     "text": [
      "151908\n"
     ]
    }
   ],
   "source": [
    "with open('./extract_data.csv', 'r') as csvreader:\n",
    "    reader = csv.DictReader(csvreader, delimiter=',')\n",
    "    for row in reader:\n",
    "        print(row['id'])\n",
    "        break"
   ]
  },
  {
   "cell_type": "code",
   "execution_count": null,
   "metadata": {},
   "outputs": [],
   "source": []
  }
 ],
 "metadata": {
  "kernelspec": {
   "display_name": "Python 3",
   "language": "python",
   "name": "python3"
  },
  "language_info": {
   "codemirror_mode": {
    "name": "ipython",
    "version": 3
   },
   "file_extension": ".py",
   "mimetype": "text/x-python",
   "name": "python",
   "nbconvert_exporter": "python",
   "pygments_lexer": "ipython3",
   "version": "3.7.6"
  }
 },
 "nbformat": 4,
 "nbformat_minor": 4
}
