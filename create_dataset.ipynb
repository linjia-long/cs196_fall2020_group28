{
 "cells": [
  {
   "cell_type": "code",
   "execution_count": null,
   "metadata": {},
   "outputs": [],
   "source": [
    "import csv\n",
    "import sys\n",
    "In [8]:\n",
    "csv.field_size_limit(sys.maxsize)\n",
    "with open('./extract_data.csv', 'w') as csvreader:\n",
    "    writer = csv.writer(csvreader, delimiter=',')\n",
    "    writer.writerow([\"id\", \"content\"])\n",
    "    with open('./archive/articles3.csv','r') as csvwriter:\n",
    "        reader = csv.DictReader(csvwriter)\n",
    "        for row in reader:\n",
    "            writer.writerow([row['id'], row['content']])"
   ]
  }
 ],
 "metadata": {
  "kernelspec": {
   "display_name": "Python 3",
   "language": "python",
   "name": "python3"
  },
  "language_info": {
   "codemirror_mode": {
    "name": "ipython",
    "version": 3
   },
   "file_extension": ".py",
   "mimetype": "text/x-python",
   "name": "python",
   "nbconvert_exporter": "python",
   "pygments_lexer": "ipython3",
   "version": "3.8.3"
  }
 },
 "nbformat": 4,
 "nbformat_minor": 4
}
