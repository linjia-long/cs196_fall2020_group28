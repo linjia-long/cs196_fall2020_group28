{
 "cells": [
  {
   "cell_type": "code",
   "execution_count": 1,
   "metadata": {},
   "outputs": [],
   "source": [
    "import csv\n",
    "import sys"
   ]
  },
  {
   "cell_type": "code",
   "execution_count": 8,
   "metadata": {},
   "outputs": [
    {
     "name": "stdout",
     "output_type": "stream",
     "text": [
      "title\n",
      "Alton Sterling’s son: ’Everyone needs to protest the right way, with peace’\n",
      "Shakespeare’s first four folios sell at auction for almost £2.5m\n",
      "My grandmother’s death saved me from a life of debt\n",
      "I feared my life lacked meaning. Cancer pushed me to find some\n",
      "Texas man serving life sentence innocent of double murder, judge says\n",
      "My dad’s Reagan protests inspire me to stand up to Donald Trump\n",
      "Flatmates of gay Syrian refugee beheaded in Turkey fear they will be next\n",
      "Jaffas and daredevils: life on the world’s steepest street\n",
      "NSA contractor arrested for alleged theft of top secret classified information\n",
      "Donald Trump to dissolve his charitable foundation after mounting complaints\n",
      "Serbian Olympic rowers sink in ferocious conditions on Rio waters\n",
      "The strange case of Pamela Anderson’s news-hogging vegan sandwich\n",
      "‘Voting for a racist’: Trump enters key debate fresh from pivot that wasn’t\n",
      "Push for ban on domestic ivory trade spurs feud at international summit\n",
      "Bad moms: why messy motherhood is finally being accepted on screen\n",
      "Planned Parenthood: eight states now striving to repeal abortion restrictions\n",
      "’Trust can be restored’: Icelanders on their parliamentary election\n",
      "Clinton endorsed by New York Times as Warren says Trump is ’making hate OK’\n",
      "Ignore the naysayers. America can handle 110,000 more refugees\n",
      "Golden State Warriors beat Oklahoma City Thunder to return to NBA finals\n",
      "Babies breastfed within an hour of birth are less likely to die. Yet only 50% are\n",
      "Pokémon Go: five tricks for pro players that are almost as good as cheats\n",
      "For Donald Trump, this was more than a terrible week. It was a turning point\n",
      "Dave Mirra had brain trauma disease CTE when he died, doctors say\n",
      "Forget Gary Johnson. Trump’s presidency would be one long ’Aleppo moment’\n",
      "Elon Musk’s self-driving evangelism masks risk of Tesla autopilot, experts say\n",
      "Twitter to conclude sale negotiations this month, sources say\n",
      "Is our world a simulation? Why some scientists say it’s more likely than not\n",
      "The economists’ guide to choosing between Trump and Clinton\n",
      "Conventional thinking will not solve the climate crisis\n",
      "Sloppy England earn point in Slovenia thanks to Joe Hart’s stunning saves\n",
      "Unity at the Republican convention? Forget about it\n",
      "Men who act as breadwinners face negative health effects, study finds\n",
      "American Crime Story season three to tackle Gianni Versace murder\n",
      "Climate change will mean the end of national parks as we know them\n",
      "Gridlock in West Africa: Accra’s troubled attempts to tackle its traffic crisis\n",
      "Michelle Obama: ‘She took first lady chic and made it modern’\n",
      "USA make do with silver in men’s team archery as South Koreans clinch gold\n",
      "Clinton v Trump: why the first post-debate poll should be read with caution\n",
      "Congress remains deadlocked over $1.1bn Zika bill after seven-week break\n",
      "Possible Romney appointment provokes ’deluge’ of opposition, says Trump aide\n",
      "’I’m no threat’ – will Obama pardon one of the world’s longest-serving political prisoners?\n",
      "Kanye West’s travails help hip-hop open up on mental health\n",
      "’One week left’ to pass Zika funding bill in US House, Democrats warn\n",
      "Police and protesters clash during squatters’ rights protest in Berlin\n",
      "Buddy Ryan, NFL coach and defensive mastermind, dies at 82\n",
      "Lee Daniels on ’whiny’ #OscarsSoWhite controversy: ’Stop complaining’\n",
      "Transgender stories: ’People think we wake up and decide to be trans’\n",
      "Rolling Stone ’Jackie’ trial: university administrator awarded $3m for defamation\n",
      "Sausage Party review – Seth Rogen’s surprisingly tasty supermarket sweep\n",
      "Georgetown’s attempt at atonement: should we be grateful?\n",
      "Chicago man killed while live streaming video on Facebook Live\n",
      "Nate Parker: director with a back story\n",
      "FBI stands guilty of an overtly political act at a crucial moment\n",
      "Fire at Sea review – masterly and moving look at the migrant crisis\n",
      "Samantha Bee meets Glenn Beck: ’It’s all of us against Trumpism’\n",
      "SEC document shows Trump was worth less than half of $10bn claim in 2012\n",
      "A quest for tribes: the world’s indigenous peoples – in pictures\n"
     ]
    },
    {
     "ename": "KeyboardInterrupt",
     "evalue": "",
     "output_type": "error",
     "traceback": [
      "\u001b[0;31m---------------------------------------------------------------------------\u001b[0m",
      "\u001b[0;31mKeyboardInterrupt\u001b[0m                         Traceback (most recent call last)",
      "\u001b[0;32m<ipython-input-8-b5774570bd43>\u001b[0m in \u001b[0;36m<module>\u001b[0;34m\u001b[0m\n\u001b[1;32m      5\u001b[0m     \u001b[0;32mwith\u001b[0m \u001b[0mopen\u001b[0m\u001b[0;34m(\u001b[0m\u001b[0;34m'./archive/articles3.csv'\u001b[0m\u001b[0;34m,\u001b[0m\u001b[0;34m'r'\u001b[0m\u001b[0;34m)\u001b[0m \u001b[0;32mas\u001b[0m \u001b[0mcsvwriter\u001b[0m\u001b[0;34m:\u001b[0m\u001b[0;34m\u001b[0m\u001b[0;34m\u001b[0m\u001b[0m\n\u001b[1;32m      6\u001b[0m         \u001b[0mreader\u001b[0m \u001b[0;34m=\u001b[0m \u001b[0mcsv\u001b[0m\u001b[0;34m.\u001b[0m\u001b[0mreader\u001b[0m\u001b[0;34m(\u001b[0m\u001b[0mcsvwriter\u001b[0m\u001b[0;34m)\u001b[0m\u001b[0;34m\u001b[0m\u001b[0;34m\u001b[0m\u001b[0m\n\u001b[0;32m----> 7\u001b[0;31m         \u001b[0;32mfor\u001b[0m \u001b[0mrow\u001b[0m \u001b[0;32min\u001b[0m \u001b[0mreader\u001b[0m\u001b[0;34m:\u001b[0m\u001b[0;34m\u001b[0m\u001b[0;34m\u001b[0m\u001b[0m\n\u001b[0m\u001b[1;32m      8\u001b[0m             \u001b[0mprint\u001b[0m\u001b[0;34m(\u001b[0m\u001b[0mrow\u001b[0m\u001b[0;34m[\u001b[0m\u001b[0;36m2\u001b[0m\u001b[0;34m]\u001b[0m\u001b[0;34m)\u001b[0m\u001b[0;34m\u001b[0m\u001b[0;34m\u001b[0m\u001b[0m\n\u001b[1;32m      9\u001b[0m \u001b[0;31m#             writer.writerow([row['id'], row['content']])\u001b[0m\u001b[0;34m\u001b[0m\u001b[0;34m\u001b[0m\u001b[0;34m\u001b[0m\u001b[0m\n",
      "\u001b[0;31mKeyboardInterrupt\u001b[0m: "
     ]
    }
   ],
   "source": [
    "csv.field_size_limit(sys.maxsize)\n",
    "with open('./extract_data.csv', 'w') as csvreader:\n",
    "    writer = csv.writer(csvreader, delimiter=',')\n",
    "    writer.writerow([\"id\", \"content\"])\n",
    "    with open('./archive/articles3.csv','r') as csvwriter:\n",
    "        reader = csv.DictReader(csvwriter)\n",
    "        for row in reader:\n",
    "            writer.writerow([row['id'], row['content']])"
   ]
  },
  {
   "cell_type": "code",
   "execution_count": null,
   "metadata": {},
   "outputs": [],
   "source": []
  }
 ],
 "metadata": {
  "kernelspec": {
   "display_name": "Python 3",
   "language": "python",
   "name": "python3"
  },
  "language_info": {
   "codemirror_mode": {
    "name": "ipython",
    "version": 3
   },
   "file_extension": ".py",
   "mimetype": "text/x-python",
   "name": "python",
   "nbconvert_exporter": "python",
   "pygments_lexer": "ipython3",
   "version": "3.7.6"
  }
 },
 "nbformat": 4,
 "nbformat_minor": 4
}
