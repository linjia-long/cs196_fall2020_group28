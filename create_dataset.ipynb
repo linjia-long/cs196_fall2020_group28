{
 "cells": [
  {
   "cell_type": "code",
   "execution_count": 34,
   "metadata": {},
   "outputs": [],
   "source": [
    "import csv\n",
    "import sys"
   ]
  },
  {
   "cell_type": "code",
   "execution_count": 35,
   "metadata": {},
   "outputs": [],
   "source": [
    "csv.field_size_limit(2147483647)\n",
    "with open('./extract_data.csv', 'w', encoding = \"utf8\") as csvreader:\n",
    "    writer = csv.writer(csvreader, delimiter=',')\n",
    "    writer.writerow([\"id\", \"content\"])\n",
    "    with open('./articles3.csv','r', encoding = \"utf8\") as csvwriter:\n",
    "        reader = csv.DictReader(csvwriter)\n",
    "        for row in reader:\n",
    "            writer.writerow([row['id'], row['content']])"
   ]
  },
  {
   "cell_type": "code",
   "execution_count": null,
   "metadata": {},
   "outputs": [],
   "source": []
  }
 ],
 "metadata": {
  "kernelspec": {
   "display_name": "Python 3",
   "language": "python",
   "name": "python3"
  },
  "language_info": {
   "codemirror_mode": {
    "name": "ipython",
    "version": 3
   },
   "file_extension": ".py",
   "mimetype": "text/x-python",
   "name": "python",
   "nbconvert_exporter": "python",
   "pygments_lexer": "ipython3",
   "version": "3.8.3"
  }
 },
 "nbformat": 4,
 "nbformat_minor": 4
}
