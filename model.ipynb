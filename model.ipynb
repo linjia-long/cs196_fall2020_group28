{
 "cells": [
  {
   "cell_type": "code",
   "execution_count": 1,
   "metadata": {},
   "outputs": [
    {
     "data": {
      "text/plain": [
       "131072"
      ]
     },
     "execution_count": 1,
     "metadata": {},
     "output_type": "execute_result"
    }
   ],
   "source": [
    "from textblob import TextBlob #python -m pip install textblob\n",
    "import csv\n",
    "import sys\n",
    "csv.field_size_limit(sys.maxsize)"
   ]
  },
  {
   "cell_type": "code",
   "execution_count": 6,
   "metadata": {},
   "outputs": [
    {
     "name": "stderr",
     "output_type": "stream",
     "text": [
      "[nltk_data] Downloading package punkt to\n",
      "[nltk_data]     /Users/linjialong/nltk_data...\n",
      "[nltk_data]   Unzipping tokenizers/punkt.zip.\n"
     ]
    },
    {
     "data": {
      "text/plain": [
       "True"
      ]
     },
     "execution_count": 6,
     "metadata": {},
     "output_type": "execute_result"
    }
   ],
   "source": [
    "import nltk\n",
    "nltk.download('punkt')"
   ]
  },
  {
   "cell_type": "code",
   "execution_count": 2,
   "metadata": {},
   "outputs": [],
   "source": [
    "id_list = []\n",
    "content_list = []\n",
    "subjectivity_list = []\n",
    "polarity_list = []"
   ]
  },
  {
   "cell_type": "code",
   "execution_count": 3,
   "metadata": {},
   "outputs": [
    {
     "name": "stdout",
     "output_type": "stream",
     "text": [
      "151908\n",
      "The son of a Louisiana man whose father was shot and killed at   range by Baton Rouge police asked protesters for “peace” and “no violence, none whatsoever”. Cameron Sterling, the    son of Alton Sterling, whose death at the hands of police was caught on video, spoke about his father and protests.  Alton Sterling was killed by Baton Rouge police on 5 July at a convenience store, where he was said to be selling CDs. Baton Rouge police said in a statement that police were called to the convenience store because Sterling had allegedly threatened another patron with a gun.  The press conference on Wednesday is Cameron’s first since he broke into sobs at a nationally broadcast press conference with his mother, following his father’s death. “I came to talk to everyone about one: the death of my father. And, two: about how I feel about people in general,” said Cameron, whose distinctly young voice was calm and composed in front of the scrum of reporters at the Triple S convenience store. “People, in general, no matter what the race, should come together as one united family. “No more arguments, violence, crimes,” said Cameron. “Yes, you can protest, but I want everyone to protest the right way. Protest in peace  —   no guns, no drugs, no alcohol, no violence. Everyone needs to protest in the right way, with peace. No violence, none whatsoever. ” Earlier on Wednesday, in an interview with CBS News, Cameron said he didn’t believe all police were “bad” and that all police “shouldn’t be punished for other police’s crimes”. “The police in Dallas, Texas, they didn’t deserve that,” said Cameron. Alton Sterling’s death spurred a Department of Justice investigation, protests across the country, and was one of the subjects of a march in Dallas on Thursday when a gunman attacked and killed five police officers there.  His was the first of two police shootings that week, including a shocking video of the shooting of Minnesota man Philandro Castile, the aftermath of which was broadcast live on Facebook by his girlfriend. \n"
     ]
    }
   ],
   "source": [
    "with open('./extract_data.csv','r') as csvreader:\n",
    "        reader = csv.DictReader(csvreader)\n",
    "        extract_data = list(reader)\n",
    "        for i in range(100):\n",
    "            id_list.append(extract_data[i]['id'])\n",
    "            content_list.append(extract_data[i]['content'])\n",
    "print(id_list[0])\n",
    "print(content_list[0])"
   ]
  },
  {
   "cell_type": "code",
   "execution_count": 4,
   "metadata": {},
   "outputs": [],
   "source": [
    "analysis = TextBlob(content_list[0])"
   ]
  },
  {
   "cell_type": "code",
   "execution_count": 8,
   "metadata": {},
   "outputs": [
    {
     "data": {
      "text/plain": [
       "[Sentence(\"The son of a Louisiana man whose father was shot and killed at   range by Baton Rouge police asked protesters for “peace” and “no violence, none whatsoever”.\"),\n",
       " Sentence(\"Cameron Sterling, the    son of Alton Sterling, whose death at the hands of police was caught on video, spoke about his father and protests.\"),\n",
       " Sentence(\"Alton Sterling was killed by Baton Rouge police on 5 July at a convenience store, where he was said to be selling CDs.\"),\n",
       " Sentence(\"Baton Rouge police said in a statement that police were called to the convenience store because Sterling had allegedly threatened another patron with a gun.\"),\n",
       " Sentence(\"The press conference on Wednesday is Cameron’s first since he broke into sobs at a nationally broadcast press conference with his mother, following his father’s death.\"),\n",
       " Sentence(\"“I came to talk to everyone about one: the death of my father.\"),\n",
       " Sentence(\"And, two: about how I feel about people in general,” said Cameron, whose distinctly young voice was calm and composed in front of the scrum of reporters at the Triple S convenience store.\"),\n",
       " Sentence(\"“People, in general, no matter what the race, should come together as one united family.\"),\n",
       " Sentence(\"“No more arguments, violence, crimes,” said Cameron.\"),\n",
       " Sentence(\"“Yes, you can protest, but I want everyone to protest the right way.\"),\n",
       " Sentence(\"Protest in peace  —   no guns, no drugs, no alcohol, no violence.\"),\n",
       " Sentence(\"Everyone needs to protest in the right way, with peace.\"),\n",
       " Sentence(\"No violence, none whatsoever.\"),\n",
       " Sentence(\"” Earlier on Wednesday, in an interview with CBS News, Cameron said he didn’t believe all police were “bad” and that all police “shouldn’t be punished for other police’s crimes”.\"),\n",
       " Sentence(\"“The police in Dallas, Texas, they didn’t deserve that,” said Cameron.\"),\n",
       " Sentence(\"Alton Sterling’s death spurred a Department of Justice investigation, protests across the country, and was one of the subjects of a march in Dallas on Thursday when a gunman attacked and killed five police officers there.\"),\n",
       " Sentence(\"His was the first of two police shootings that week, including a shocking video of the shooting of Minnesota man Philandro Castile, the aftermath of which was broadcast live on Facebook by his girlfriend.\")]"
      ]
     },
     "execution_count": 8,
     "metadata": {},
     "output_type": "execute_result"
    }
   ],
   "source": [
    "# analysis.words\n",
    "analysis.sentences"
   ]
  },
  {
   "cell_type": "code",
   "execution_count": 10,
   "metadata": {},
   "outputs": [
    {
     "name": "stdout",
     "output_type": "stream",
     "text": [
      "son\n",
      "sons\n",
      "protesters\n",
      "protester\n"
     ]
    }
   ],
   "source": [
    "print(analysis.words[1])\n",
    "print(analysis.words[1].pluralize())\n",
    "print(analysis.words[19])\n",
    "print(analysis.words[19].singularize())"
   ]
  },
  {
   "cell_type": "code",
   "execution_count": 11,
   "metadata": {},
   "outputs": [
    {
     "data": {
      "text/plain": [
       "Sentiment(polarity=-0.05616883116883116, subjectivity=0.40156641604010024)"
      ]
     },
     "execution_count": 11,
     "metadata": {},
     "output_type": "execute_result"
    }
   ],
   "source": [
    "analysis.sentiment"
   ]
  },
  {
   "cell_type": "code",
   "execution_count": 12,
   "metadata": {},
   "outputs": [],
   "source": [
    "for content in content_list:\n",
    "    analysis = TextBlob(content)\n",
    "    subjectivity_list.append(analysis.sentiment.subjectivity)\n",
    "    polarity_list.append(analysis.sentiment.polarity)"
   ]
  },
  {
   "cell_type": "code",
   "execution_count": 14,
   "metadata": {},
   "outputs": [
    {
     "name": "stdout",
     "output_type": "stream",
     "text": [
      "0.6022703616965912\n",
      "0.22988215488215488\n",
      "0.43265374629799064\n"
     ]
    }
   ],
   "source": [
    "import statistics\n",
    "print(max(subjectivity_list))\n",
    "print(min(subjectivity_list))\n",
    "print(statistics.mean(subjectivity_list))"
   ]
  },
  {
   "cell_type": "code",
   "execution_count": 15,
   "metadata": {},
   "outputs": [
    {
     "name": "stdout",
     "output_type": "stream",
     "text": [
      "0.3\n",
      "-0.05616883116883116\n",
      "0.08920580572099676\n"
     ]
    }
   ],
   "source": [
    "print(max(polarity_list)) #[-1,1]\n",
    "print(min(polarity_list))\n",
    "print(statistics.mean(polarity_list))"
   ]
  },
  {
   "cell_type": "code",
   "execution_count": 16,
   "metadata": {},
   "outputs": [
    {
     "data": {
      "text/plain": [
       "(array([ 1.,  0.,  0.,  1.,  2.,  5.,  2.,  6., 11., 11., 14., 11.,  8.,\n",
       "        10., 11.,  2.,  1.,  2.,  1.,  1.]),\n",
       " array([0.22988215, 0.24850157, 0.26712098, 0.28574039, 0.3043598 ,\n",
       "        0.32297921, 0.34159862, 0.36021803, 0.37883744, 0.39745685,\n",
       "        0.41607626, 0.43469567, 0.45331508, 0.47193449, 0.4905539 ,\n",
       "        0.50917331, 0.52779272, 0.54641213, 0.56503154, 0.58365095,\n",
       "        0.60227036]),\n",
       " <a list of 20 Patch objects>)"
      ]
     },
     "execution_count": 16,
     "metadata": {},
     "output_type": "execute_result"
    },
    {
     "data": {
      "image/png": "[encoded data removed]",
      "text/plain": [
       "<Figure size 432x288 with 1 Axes>"
      ]
     },
     "metadata": {
      "needs_background": "light"
     },
     "output_type": "display_data"
    }
   ],
   "source": [
    "import matplotlib.pyplot as plt\n",
    "plt.hist(subjectivity_list, bins = 20)"
   ]
  },
  {
   "cell_type": "code",
   "execution_count": 17,
   "metadata": {},
   "outputs": [
    {
     "data": {
      "text/plain": [
       "(array([ 2.,  0.,  1.,  7.,  7., 11., 11., 12., 10., 11., 12.,  5.,  3.,\n",
       "         4.,  1.,  2.,  0.,  0.,  0.,  1.]),\n",
       " array([-0.05616883, -0.03836039, -0.02055195, -0.00274351,  0.01506494,\n",
       "         0.03287338,  0.05068182,  0.06849026,  0.0862987 ,  0.10410714,\n",
       "         0.12191558,  0.13972403,  0.15753247,  0.17534091,  0.19314935,\n",
       "         0.21095779,  0.22876623,  0.24657468,  0.26438312,  0.28219156,\n",
       "         0.3       ]),\n",
       " <a list of 20 Patch objects>)"
      ]
     },
     "execution_count": 17,
     "metadata": {},
     "output_type": "execute_result"
    },
    {
     "data": {
      "image/png": "[encoded data removed]",
      "text/plain": [
       "<Figure size 432x288 with 1 Axes>"
      ]
     },
     "metadata": {
      "needs_background": "light"
     },
     "output_type": "display_data"
    }
   ],
   "source": [
    "plt.hist(polarity_list, bins = 20)"
   ]
  },
  {
   "cell_type": "code",
   "execution_count": null,
   "metadata": {},
   "outputs": [],
   "source": [
    "#normalize"
   ]
  }
 ],
 "metadata": {
  "kernelspec": {
   "display_name": "Python 3",
   "language": "python",
   "name": "python3"
  },
  "language_info": {
   "codemirror_mode": {
    "name": "ipython",
    "version": 3
   },
   "file_extension": ".py",
   "mimetype": "text/x-python",
   "name": "python",
   "nbconvert_exporter": "python",
   "pygments_lexer": "ipython3",
   "version": "3.7.6"
  }
 },
 "nbformat": 4,
 "nbformat_minor": 4
}
