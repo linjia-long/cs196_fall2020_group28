{
 "metadata": {
  "language_info": {
   "codemirror_mode": {
    "name": "ipython",
    "version": 3
   },
   "file_extension": ".py",
   "mimetype": "text/x-python",
   "name": "python",
   "nbconvert_exporter": "python",
   "pygments_lexer": "ipython3",
   "version": 3
  },
  "orig_nbformat": 2
 },
 "nbformat": 4,
 "nbformat_minor": 2,
 "cells": [
  {
   "cell_type": "code",
   "execution_count": null,
   "metadata": {},
   "outputs": [],
   "source": [
    "# Runtime -> change Runtime type -> GPU"
   ]
  },
  {
   "cell_type": "code",
   "execution_count": null,
   "metadata": {},
   "outputs": [],
   "source": [
    "# before you write any code, run the following content\n",
    "from google.colab import drive\n",
    "drive.mount('/content/drive')\n",
    "# follow the instruction so that \n",
    "# colab can access the files in Google drive"
   ]
  },
  {
   "cell_type": "code",
   "execution_count": null,
   "metadata": {},
   "outputs": [],
   "source": [
    "# you have to use the full path of a file to access it.\n",
    "# e.g. instead of \"/image/12345.jpg\", you might need to write \"/content/drive/My Drive/image/12345.jpb\" (THIS IS JUST AN EXAMPLE, THE FULL PATH IS NOT NECESSARILY THE SAME)"
   ]
  },
  {
   "cell_type": "code",
   "execution_count": null,
   "metadata": {},
   "outputs": [],
   "source": [
    "# before you fit your model, run the following lines\n",
    "from tensorflow.python.client import device_lib\n",
    "\n",
    "def get_available_devices():\n",
    "    local_device_protos = device_lib.list_local_devices()\n",
    "    return [x.name for x in local_device_protos]\n",
    "\n",
    "print(get_available_devices())  \n",
    "# make sure your output include GPU"
   ]
  }
 ]
}