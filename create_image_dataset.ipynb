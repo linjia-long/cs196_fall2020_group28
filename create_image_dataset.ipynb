{
 "cells": [
  {
   "cell_type": "code",
   "execution_count": 2,
   "metadata": {},
   "outputs": [
    {
     "data": {
      "text/plain": [
       "131072"
      ]
     },
     "execution_count": 2,
     "metadata": {},
     "output_type": "execute_result"
    }
   ],
   "source": [
    "import csv\n",
    "import requests\n",
    "import urllib.request\n",
    "from bs4 import BeautifulSoup\n",
    "\n",
    "import sys\n",
    "csv.field_size_limit(sys.maxsize)"
   ]
  },
  {
   "cell_type": "code",
   "execution_count": 3,
   "metadata": {},
   "outputs": [
    {
     "name": "stdout",
     "output_type": "stream",
     "text": [
      "https://i.guim.co.uk/img/media/e6fe458edc952aa6b7d591385fbae35afd67a402/0_74_4000_2400/master/4000.jpg?width=1200&height=630&quality=85&auto=format&fit=crop&overlay-align=bottom%2Cleft&overlay-width=100p&overlay-base64=L2ltZy9zdGF0aWMvb3ZlcmxheXMvdGctYWdlLTIwMTYucG5n&enable=upscale&s=2b4e65186f9e1d08f568add070d56b8e\n"
     ]
    }
   ],
   "source": [
    "link = \"https://www.theguardian.com/us-news/2016/dec/24/trump-university-shut-down-conflict-of-interest\"\n",
    "f = requests.get(link)\n",
    "soup = BeautifulSoup(f.content, \"html\")\n",
    "# print(soup)\n",
    "image = soup.find(\"meta\", property = \"og:image\")\n",
    "print(image[\"content\"])"
   ]
  },
  {
   "cell_type": "code",
   "execution_count": 3,
   "metadata": {},
   "outputs": [
    {
     "name": "stdout",
     "output_type": "stream",
     "text": [
      "except 82595\n",
      "except 82602\n",
      "except 82617\n",
      "except 82624\n",
      "except 82631\n",
      "except 82635\n",
      "except 82639\n",
      "except 82640\n",
      "except 82643\n",
      "except 82648\n",
      "except 82655\n",
      "except 82658\n",
      "except 82665\n",
      "except 82668\n",
      "except 82673\n",
      "except 82675\n",
      "except 82678\n",
      "except 82679\n",
      "except 82681\n",
      "except 82684\n",
      "except 82721\n",
      "except 82723\n",
      "except 82744\n",
      "except 82746\n",
      "except 82751\n",
      "except 82755\n",
      "except 82756\n",
      "except 82770\n",
      "except 82780\n",
      "except 82781\n",
      "except 82793\n"
     ]
    }
   ],
   "source": [
    "i = 0\n",
    "with open('./imagemodel_dataset.csv', 'r') as csvreader:\n",
    "    reader = csv.DictReader(csvreader)\n",
    "    for row in reader:\n",
    "        url = row['url']\n",
    "        r = requests.get(url)\n",
    "        soup = BeautifulSoup(r.content, \"html\")\n",
    "        image_url = soup.find(\"meta\", property = \"og:image\")\n",
    "        try:\n",
    "            image = urllib.request.urlretrieve(image_url['content'], \"./image/\"+row['id']+ \".jpg\")\n",
    "            i += 1\n",
    "        except:\n",
    "            print(\"except\", row['id'])\n",
    "        if i == 150:\n",
    "            break"
   ]
  },
  {
   "cell_type": "code",
   "execution_count": null,
   "metadata": {},
   "outputs": [],
   "source": []
  }
 ],
 "metadata": {
  "kernelspec": {
   "display_name": "Python 3",
   "language": "python",
   "name": "python3"
  },
  "language_info": {
   "codemirror_mode": {
    "name": "ipython",
    "version": 3
   },
   "file_extension": ".py",
   "mimetype": "text/x-python",
   "name": "python",
   "nbconvert_exporter": "python",
   "pygments_lexer": "ipython3",
   "version": "3.7.6"
  }
 },
 "nbformat": 4,
 "nbformat_minor": 4
}
