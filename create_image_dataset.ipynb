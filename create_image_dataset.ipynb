{
 "cells": [
  {
   "cell_type": "code",
   "execution_count": 2,
   "metadata": {},
   "outputs": [
    {
     "data": {
      "text/plain": [
       "131072"
      ]
     },
     "execution_count": 2,
     "metadata": {},
     "output_type": "execute_result"
    }
   ],
   "source": [
    "import csv\n",
    "import requests\n",
    "import urllib.request\n",
    "from bs4 import BeautifulSoup\n",
    "\n",
    "import sys\n",
    "csv.field_size_limit(sys.maxsize)"
   ]
  },
  {
   "cell_type": "code",
   "execution_count": 8,
   "metadata": {},
   "outputs": [
    {
     "name": "stdout",
     "output_type": "stream",
     "text": [
      "https://i.guim.co.uk/img/media/e6fe458edc952aa6b7d591385fbae35afd67a402/0_74_4000_2400/master/4000.jpg?width=1200&height=630&quality=85&auto=format&fit=crop&overlay-align=bottom%2Cleft&overlay-width=100p&overlay-base64=L2ltZy9zdGF0aWMvb3ZlcmxheXMvdGctYWdlLTIwMTYucG5n&enable=upscale&s=2b4e65186f9e1d08f568add070d56b8e\n"
     ]
    }
   ],
   "source": [
    "link = \"https://www.theguardian.com/us-news/2016/dec/24/trump-university-shut-down-conflict-of-interest\"\n",
    "f = requests.get(link)\n",
    "soup = BeautifulSoup(f.content, \"html\")\n",
    "#print(soup)\n",
    "image = soup.find(\"meta\", property = \"og:image\")\n",
    "print(image[\"content\"])"
   ]
  },
  {
   "cell_type": "code",
   "execution_count": 4,
   "metadata": {},
   "outputs": [
    {
     "name": "stdout",
     "output_type": "stream",
     "text": [
      "https://web.archive.org/web/20160101000951/http://www.foxnews.com/world/2015/12/31/fire-tears-through-dubai-building-near-planned-fireworks-show.html\n",
      "\n",
      "https://web.archive.org/web/20151231195611im_/http://a57.foxnews.com/media2.foxnews.com/BrightCove/694940094001/2015/12/31/0/0/694940094001_4681415130001_cf32610a-3d15-49b1-b21d-293311f8b176.jpg?ve=1\n"
     ]
    }
   ],
   "source": [
    "with open('./imagemodel_dataset.csv', 'r') as csvreader:\n",
    "    reader = csv.DictReader(csvreader)\n",
    "    for row in reader:\n",
    "        url = row['url']\n",
    "        #print(url)\n",
    "        r = requests.get(url)\n",
    "        soup = BeautifulSoup(r.content, \"html\")\n",
    "        image_url = soup.find(\"meta\", property = \"og:image\")\n",
    "        #print(image_url[\"content\"])\n",
    "        image = urllib.request.urlretrieve(image_url['content'], \"./image/\"+row['id']+ \".jpg\")\n",
    "        break"
   ]
  },
  {
   "cell_type": "code",
   "execution_count": null,
   "metadata": {},
   "outputs": [],
   "source": []
  }
 ],
 "metadata": {
  "kernelspec": {
   "display_name": "Python 3",
   "language": "python",
   "name": "python3"
  },
  "language_info": {
   "codemirror_mode": {
    "name": "ipython",
    "version": 3
   },
   "file_extension": ".py",
   "mimetype": "text/x-python",
   "name": "python",
   "nbconvert_exporter": "python",
   "pygments_lexer": "ipython3",
   "version": "3.8.3"
  }
 },
 "nbformat": 4,
 "nbformat_minor": 4
}
