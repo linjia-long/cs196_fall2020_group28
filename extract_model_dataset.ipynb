{
 "cells": [
  {
   "cell_type": "code",
   "execution_count": 1,
   "metadata": {},
   "outputs": [
    {
     "data": {
      "text/plain": [
       "131072"
      ]
     },
     "execution_count": 1,
     "metadata": {},
     "output_type": "execute_result"
    }
   ],
   "source": [
    "import csv\n",
    "from textblob import TextBlob\n",
    "\n",
    "import sys\n",
    "csv.field_size_limit(sys.maxsize)"
   ]
  },
  {
   "cell_type": "code",
   "execution_count": 2,
   "metadata": {},
   "outputs": [],
   "source": [
    "def sentiment_analysis(content):\n",
    "    analysis = TextBlob(content)\n",
    "    return (analysis.sentiment.subjectivity, analysis.sentiment.polarity)\n"
   ]
  },
  {
   "cell_type": "code",
   "execution_count": 3,
   "metadata": {},
   "outputs": [],
   "source": [
    "with open('./imagemodel_dataset.csv', 'w') as csvreader:\n",
    "    writer = csv.writer(csvreader, delimiter=',')\n",
    "    writer.writerow([\"id\", \"content\", \"url\", \"subjectivity\", \"polarity\"])\n",
    "    with open('./archive/articles2.csv','r', encoding=\"utf8\") as csvwriter:\n",
    "        reader = csv.DictReader(csvwriter)\n",
    "        for row in reader:\n",
    "            if (row['url'] != \"\"):\n",
    "                subjectivity, polarity = sentiment_analysis(row['content'])\n",
    "                writer.writerow([row['id'], row['content'], row['url'],subjectivity, polarity])\n",
    "    with open('./archive/articles3.csv','r', encoding=\"utf8\") as csvwriter:\n",
    "        reader = csv.DictReader(csvwriter)\n",
    "        for row in reader:\n",
    "            subjectivity, polarity = sentiment_analysis(row['content'])\n",
    "            writer.writerow([row['id'], row['content'], row['url'],subjectivity, polarity])"
   ]
  },
  {
   "cell_type": "code",
   "execution_count": null,
   "metadata": {},
   "outputs": [],
   "source": []
  }
 ],
 "metadata": {
  "kernelspec": {
   "display_name": "Python 3",
   "language": "python",
   "name": "python3"
  },
  "language_info": {
   "codemirror_mode": {
    "name": "ipython",
    "version": 3
   },
   "file_extension": ".py",
   "mimetype": "text/x-python",
   "name": "python",
   "nbconvert_exporter": "python",
   "pygments_lexer": "ipython3",
   "version": "3.8.3"
  }
 },
 "nbformat": 4,
 "nbformat_minor": 4
}
